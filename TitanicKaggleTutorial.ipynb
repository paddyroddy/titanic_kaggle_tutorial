{
 "cells": [
  {
   "cell_type": "markdown",
   "id": "arctic-channels",
   "metadata": {},
   "source": [
    "# Kaggle Competition | Titanic Machine Learning from Disaster\n",
    "\n",
    "> The sinking of the RMS Titanic is one of the most infamous shipwrecks in history. On April 15, 1912, during her maiden voyage, the Titanic sank after colliding with an iceberg, killing 1502 out of 2224 passengers and crew. This sensational tragedy shocked the international community and led to better safety regulations for ships.\n",
    ">\n",
    "> One of the reasons that the shipwreck led to such loss of life was that there were not enough lifeboats for the passengers and crew. Although there was some element of luck involved in surviving the sinking, some groups of people were more likely to survive than others, such as women, children, and the upper-class.\n",
    ">\n",
    "> In this contest, we ask you to complete the analysis of what sorts of people were likely to survive. In particular, we ask you to apply the tools of machine learning to predict which passengers survived the tragedy.\n",
    ">\n",
    "> This Kaggle Getting Started Competition provides an ideal starting place for people who may not have a lot of experience in data science and machine learning.\"\n",
    "\n",
    "From the competition [homepage](https://www.kaggle.com/c/titanic)."
   ]
  },
  {
   "cell_type": "markdown",
   "id": "destroyed-monroe",
   "metadata": {},
   "source": [
    "## This notebook\n",
    "\n",
    "The aim of this notebook is to give you some insight into a more \"real\" world problem where are data isn't cleaned for us. We need to explore the data, clean it and then apply some ML methods.\n",
    "\n",
    "First we'll need to install some dependencies and then import them."
   ]
  },
  {
   "cell_type": "code",
   "execution_count": 1,
   "id": "known-resource",
   "metadata": {},
   "outputs": [
    {
     "name": "stdout",
     "output_type": "stream",
     "text": [
      "Requirement already satisfied: jupyter==1.0.0 in /usr/local/anaconda3/envs/titanic/lib/python3.9/site-packages (from -r requirements.txt (line 1)) (1.0.0)\n",
      "Requirement already satisfied: matplotlib==3.3.4 in /usr/local/anaconda3/envs/titanic/lib/python3.9/site-packages (from -r requirements.txt (line 2)) (3.3.4)\n",
      "Requirement already satisfied: numpy==1.20.2 in /usr/local/anaconda3/envs/titanic/lib/python3.9/site-packages (from -r requirements.txt (line 3)) (1.20.2)\n",
      "Requirement already satisfied: pandas==1.2.4 in /usr/local/anaconda3/envs/titanic/lib/python3.9/site-packages (from -r requirements.txt (line 4)) (1.2.4)\n",
      "Requirement already satisfied: patsy==0.5.1 in /usr/local/anaconda3/envs/titanic/lib/python3.9/site-packages (from -r requirements.txt (line 5)) (0.5.1)\n",
      "Requirement already satisfied: scikit-learn==0.24.2 in /usr/local/anaconda3/envs/titanic/lib/python3.9/site-packages (from -r requirements.txt (line 6)) (0.24.2)\n",
      "Requirement already satisfied: statsmodels==0.12.2 in /usr/local/anaconda3/envs/titanic/lib/python3.9/site-packages (from -r requirements.txt (line 7)) (0.12.2)\n",
      "Requirement already satisfied: nbconvert in /usr/local/anaconda3/envs/titanic/lib/python3.9/site-packages (from jupyter==1.0.0->-r requirements.txt (line 1)) (6.0.7)\n",
      "Requirement already satisfied: ipykernel in /usr/local/anaconda3/envs/titanic/lib/python3.9/site-packages (from jupyter==1.0.0->-r requirements.txt (line 1)) (5.5.3)\n",
      "Requirement already satisfied: notebook in /usr/local/anaconda3/envs/titanic/lib/python3.9/site-packages (from jupyter==1.0.0->-r requirements.txt (line 1)) (6.3.0)\n",
      "Requirement already satisfied: qtconsole in /usr/local/anaconda3/envs/titanic/lib/python3.9/site-packages (from jupyter==1.0.0->-r requirements.txt (line 1)) (5.0.3)\n",
      "Requirement already satisfied: jupyter-console in /usr/local/anaconda3/envs/titanic/lib/python3.9/site-packages (from jupyter==1.0.0->-r requirements.txt (line 1)) (6.4.0)\n",
      "Requirement already satisfied: ipywidgets in /usr/local/anaconda3/envs/titanic/lib/python3.9/site-packages (from jupyter==1.0.0->-r requirements.txt (line 1)) (7.6.3)\n",
      "Requirement already satisfied: cycler>=0.10 in /usr/local/anaconda3/envs/titanic/lib/python3.9/site-packages (from matplotlib==3.3.4->-r requirements.txt (line 2)) (0.10.0)\n",
      "Requirement already satisfied: kiwisolver>=1.0.1 in /usr/local/anaconda3/envs/titanic/lib/python3.9/site-packages (from matplotlib==3.3.4->-r requirements.txt (line 2)) (1.3.1)\n",
      "Requirement already satisfied: pyparsing!=2.0.4,!=2.1.2,!=2.1.6,>=2.0.3 in /usr/local/anaconda3/envs/titanic/lib/python3.9/site-packages (from matplotlib==3.3.4->-r requirements.txt (line 2)) (2.4.7)\n",
      "Requirement already satisfied: pillow>=6.2.0 in /usr/local/anaconda3/envs/titanic/lib/python3.9/site-packages (from matplotlib==3.3.4->-r requirements.txt (line 2)) (8.2.0)\n",
      "Requirement already satisfied: python-dateutil>=2.1 in /usr/local/anaconda3/envs/titanic/lib/python3.9/site-packages (from matplotlib==3.3.4->-r requirements.txt (line 2)) (2.8.1)\n",
      "Requirement already satisfied: pytz>=2017.3 in /usr/local/anaconda3/envs/titanic/lib/python3.9/site-packages (from pandas==1.2.4->-r requirements.txt (line 4)) (2021.1)\n",
      "Requirement already satisfied: six in /usr/local/anaconda3/envs/titanic/lib/python3.9/site-packages (from patsy==0.5.1->-r requirements.txt (line 5)) (1.15.0)\n",
      "Requirement already satisfied: joblib>=0.11 in /usr/local/anaconda3/envs/titanic/lib/python3.9/site-packages (from scikit-learn==0.24.2->-r requirements.txt (line 6)) (1.0.1)\n",
      "Requirement already satisfied: scipy>=0.19.1 in /usr/local/anaconda3/envs/titanic/lib/python3.9/site-packages (from scikit-learn==0.24.2->-r requirements.txt (line 6)) (1.6.3)\n",
      "Requirement already satisfied: threadpoolctl>=2.0.0 in /usr/local/anaconda3/envs/titanic/lib/python3.9/site-packages (from scikit-learn==0.24.2->-r requirements.txt (line 6)) (2.1.0)\n",
      "Requirement already satisfied: tornado>=4.2 in /usr/local/anaconda3/envs/titanic/lib/python3.9/site-packages (from ipykernel->jupyter==1.0.0->-r requirements.txt (line 1)) (6.1)\n",
      "Requirement already satisfied: appnope in /usr/local/anaconda3/envs/titanic/lib/python3.9/site-packages (from ipykernel->jupyter==1.0.0->-r requirements.txt (line 1)) (0.1.2)\n",
      "Requirement already satisfied: traitlets>=4.1.0 in /usr/local/anaconda3/envs/titanic/lib/python3.9/site-packages (from ipykernel->jupyter==1.0.0->-r requirements.txt (line 1)) (5.0.5)\n",
      "Requirement already satisfied: jupyter-client in /usr/local/anaconda3/envs/titanic/lib/python3.9/site-packages (from ipykernel->jupyter==1.0.0->-r requirements.txt (line 1)) (6.1.12)\n",
      "Requirement already satisfied: ipython>=5.0.0 in /usr/local/anaconda3/envs/titanic/lib/python3.9/site-packages (from ipykernel->jupyter==1.0.0->-r requirements.txt (line 1)) (7.22.0)\n",
      "Requirement already satisfied: backcall in /usr/local/anaconda3/envs/titanic/lib/python3.9/site-packages (from ipython>=5.0.0->ipykernel->jupyter==1.0.0->-r requirements.txt (line 1)) (0.2.0)\n",
      "Requirement already satisfied: decorator in /usr/local/anaconda3/envs/titanic/lib/python3.9/site-packages (from ipython>=5.0.0->ipykernel->jupyter==1.0.0->-r requirements.txt (line 1)) (5.0.7)\n",
      "Requirement already satisfied: prompt-toolkit!=3.0.0,!=3.0.1,<3.1.0,>=2.0.0 in /usr/local/anaconda3/envs/titanic/lib/python3.9/site-packages (from ipython>=5.0.0->ipykernel->jupyter==1.0.0->-r requirements.txt (line 1)) (3.0.18)\n",
      "Requirement already satisfied: pygments in /usr/local/anaconda3/envs/titanic/lib/python3.9/site-packages (from ipython>=5.0.0->ipykernel->jupyter==1.0.0->-r requirements.txt (line 1)) (2.8.1)\n",
      "Requirement already satisfied: jedi>=0.16 in /usr/local/anaconda3/envs/titanic/lib/python3.9/site-packages (from ipython>=5.0.0->ipykernel->jupyter==1.0.0->-r requirements.txt (line 1)) (0.18.0)\n",
      "Requirement already satisfied: pexpect>4.3 in /usr/local/anaconda3/envs/titanic/lib/python3.9/site-packages (from ipython>=5.0.0->ipykernel->jupyter==1.0.0->-r requirements.txt (line 1)) (4.8.0)\n",
      "Requirement already satisfied: setuptools>=18.5 in /usr/local/anaconda3/envs/titanic/lib/python3.9/site-packages (from ipython>=5.0.0->ipykernel->jupyter==1.0.0->-r requirements.txt (line 1)) (52.0.0.post20210125)\n",
      "Requirement already satisfied: pickleshare in /usr/local/anaconda3/envs/titanic/lib/python3.9/site-packages (from ipython>=5.0.0->ipykernel->jupyter==1.0.0->-r requirements.txt (line 1)) (0.7.5)\n",
      "Requirement already satisfied: parso<0.9.0,>=0.8.0 in /usr/local/anaconda3/envs/titanic/lib/python3.9/site-packages (from jedi>=0.16->ipython>=5.0.0->ipykernel->jupyter==1.0.0->-r requirements.txt (line 1)) (0.8.2)\n",
      "Requirement already satisfied: ptyprocess>=0.5 in /usr/local/anaconda3/envs/titanic/lib/python3.9/site-packages (from pexpect>4.3->ipython>=5.0.0->ipykernel->jupyter==1.0.0->-r requirements.txt (line 1)) (0.7.0)\n",
      "Requirement already satisfied: wcwidth in /usr/local/anaconda3/envs/titanic/lib/python3.9/site-packages (from prompt-toolkit!=3.0.0,!=3.0.1,<3.1.0,>=2.0.0->ipython>=5.0.0->ipykernel->jupyter==1.0.0->-r requirements.txt (line 1)) (0.2.5)\n",
      "Requirement already satisfied: ipython-genutils in /usr/local/anaconda3/envs/titanic/lib/python3.9/site-packages (from traitlets>=4.1.0->ipykernel->jupyter==1.0.0->-r requirements.txt (line 1)) (0.2.0)\n",
      "Requirement already satisfied: jupyterlab-widgets>=1.0.0 in /usr/local/anaconda3/envs/titanic/lib/python3.9/site-packages (from ipywidgets->jupyter==1.0.0->-r requirements.txt (line 1)) (1.0.0)\n",
      "Requirement already satisfied: widgetsnbextension~=3.5.0 in /usr/local/anaconda3/envs/titanic/lib/python3.9/site-packages (from ipywidgets->jupyter==1.0.0->-r requirements.txt (line 1)) (3.5.1)\n",
      "Requirement already satisfied: nbformat>=4.2.0 in /usr/local/anaconda3/envs/titanic/lib/python3.9/site-packages (from ipywidgets->jupyter==1.0.0->-r requirements.txt (line 1)) (5.1.3)\n",
      "Requirement already satisfied: jsonschema!=2.5.0,>=2.4 in /usr/local/anaconda3/envs/titanic/lib/python3.9/site-packages (from nbformat>=4.2.0->ipywidgets->jupyter==1.0.0->-r requirements.txt (line 1)) (3.2.0)\n",
      "Requirement already satisfied: jupyter-core in /usr/local/anaconda3/envs/titanic/lib/python3.9/site-packages (from nbformat>=4.2.0->ipywidgets->jupyter==1.0.0->-r requirements.txt (line 1)) (4.7.1)\n"
     ]
    },
    {
     "name": "stdout",
     "output_type": "stream",
     "text": [
      "Requirement already satisfied: attrs>=17.4.0 in /usr/local/anaconda3/envs/titanic/lib/python3.9/site-packages (from jsonschema!=2.5.0,>=2.4->nbformat>=4.2.0->ipywidgets->jupyter==1.0.0->-r requirements.txt (line 1)) (20.3.0)\n",
      "Requirement already satisfied: pyrsistent>=0.14.0 in /usr/local/anaconda3/envs/titanic/lib/python3.9/site-packages (from jsonschema!=2.5.0,>=2.4->nbformat>=4.2.0->ipywidgets->jupyter==1.0.0->-r requirements.txt (line 1)) (0.17.3)\n",
      "Requirement already satisfied: prometheus-client in /usr/local/anaconda3/envs/titanic/lib/python3.9/site-packages (from notebook->jupyter==1.0.0->-r requirements.txt (line 1)) (0.10.1)\n",
      "Requirement already satisfied: Send2Trash>=1.5.0 in /usr/local/anaconda3/envs/titanic/lib/python3.9/site-packages (from notebook->jupyter==1.0.0->-r requirements.txt (line 1)) (1.5.0)\n",
      "Requirement already satisfied: terminado>=0.8.3 in /usr/local/anaconda3/envs/titanic/lib/python3.9/site-packages (from notebook->jupyter==1.0.0->-r requirements.txt (line 1)) (0.9.4)\n",
      "Requirement already satisfied: jinja2 in /usr/local/anaconda3/envs/titanic/lib/python3.9/site-packages (from notebook->jupyter==1.0.0->-r requirements.txt (line 1)) (2.11.3)\n",
      "Requirement already satisfied: pyzmq>=17 in /usr/local/anaconda3/envs/titanic/lib/python3.9/site-packages (from notebook->jupyter==1.0.0->-r requirements.txt (line 1)) (22.0.3)\n",
      "Requirement already satisfied: argon2-cffi in /usr/local/anaconda3/envs/titanic/lib/python3.9/site-packages (from notebook->jupyter==1.0.0->-r requirements.txt (line 1)) (20.1.0)\n",
      "Requirement already satisfied: cffi>=1.0.0 in /usr/local/anaconda3/envs/titanic/lib/python3.9/site-packages (from argon2-cffi->notebook->jupyter==1.0.0->-r requirements.txt (line 1)) (1.14.5)\n",
      "Requirement already satisfied: pycparser in /usr/local/anaconda3/envs/titanic/lib/python3.9/site-packages (from cffi>=1.0.0->argon2-cffi->notebook->jupyter==1.0.0->-r requirements.txt (line 1)) (2.20)\n",
      "Requirement already satisfied: MarkupSafe>=0.23 in /usr/local/anaconda3/envs/titanic/lib/python3.9/site-packages (from jinja2->notebook->jupyter==1.0.0->-r requirements.txt (line 1)) (1.1.1)\n",
      "Requirement already satisfied: jupyterlab-pygments in /usr/local/anaconda3/envs/titanic/lib/python3.9/site-packages (from nbconvert->jupyter==1.0.0->-r requirements.txt (line 1)) (0.1.2)\n",
      "Requirement already satisfied: testpath in /usr/local/anaconda3/envs/titanic/lib/python3.9/site-packages (from nbconvert->jupyter==1.0.0->-r requirements.txt (line 1)) (0.4.4)\n",
      "Requirement already satisfied: bleach in /usr/local/anaconda3/envs/titanic/lib/python3.9/site-packages (from nbconvert->jupyter==1.0.0->-r requirements.txt (line 1)) (3.3.0)\n",
      "Requirement already satisfied: entrypoints>=0.2.2 in /usr/local/anaconda3/envs/titanic/lib/python3.9/site-packages (from nbconvert->jupyter==1.0.0->-r requirements.txt (line 1)) (0.3)\n",
      "Requirement already satisfied: mistune<2,>=0.8.1 in /usr/local/anaconda3/envs/titanic/lib/python3.9/site-packages (from nbconvert->jupyter==1.0.0->-r requirements.txt (line 1)) (0.8.4)\n",
      "Requirement already satisfied: pandocfilters>=1.4.1 in /usr/local/anaconda3/envs/titanic/lib/python3.9/site-packages (from nbconvert->jupyter==1.0.0->-r requirements.txt (line 1)) (1.4.3)\n",
      "Requirement already satisfied: defusedxml in /usr/local/anaconda3/envs/titanic/lib/python3.9/site-packages (from nbconvert->jupyter==1.0.0->-r requirements.txt (line 1)) (0.7.1)\n",
      "Requirement already satisfied: nbclient<0.6.0,>=0.5.0 in /usr/local/anaconda3/envs/titanic/lib/python3.9/site-packages (from nbconvert->jupyter==1.0.0->-r requirements.txt (line 1)) (0.5.3)\n",
      "Requirement already satisfied: nest-asyncio in /usr/local/anaconda3/envs/titanic/lib/python3.9/site-packages (from nbclient<0.6.0,>=0.5.0->nbconvert->jupyter==1.0.0->-r requirements.txt (line 1)) (1.5.1)\n",
      "Requirement already satisfied: async-generator in /usr/local/anaconda3/envs/titanic/lib/python3.9/site-packages (from nbclient<0.6.0,>=0.5.0->nbconvert->jupyter==1.0.0->-r requirements.txt (line 1)) (1.10)\n",
      "Requirement already satisfied: webencodings in /usr/local/anaconda3/envs/titanic/lib/python3.9/site-packages (from bleach->nbconvert->jupyter==1.0.0->-r requirements.txt (line 1)) (0.5.1)\n",
      "Requirement already satisfied: packaging in /usr/local/anaconda3/envs/titanic/lib/python3.9/site-packages (from bleach->nbconvert->jupyter==1.0.0->-r requirements.txt (line 1)) (20.9)\n",
      "Requirement already satisfied: qtpy in /usr/local/anaconda3/envs/titanic/lib/python3.9/site-packages (from qtconsole->jupyter==1.0.0->-r requirements.txt (line 1)) (1.9.0)\n",
      "Note: you may need to restart the kernel to use updated packages.\n"
     ]
    }
   ],
   "source": [
    "pip install -r requirements.txt"
   ]
  },
  {
   "cell_type": "code",
   "execution_count": 2,
   "id": "regulated-selection",
   "metadata": {},
   "outputs": [],
   "source": [
    "import matplotlib.pyplot as plt\n",
    "import numpy as np\n",
    "import pandas as pd\n",
    "import statsmodels.api as sm\n",
    "from patsy import dmatrices\n",
    "from sklearn import datasets, svm\n",
    "from statsmodels.nonparametric import smoothers_lowess\n",
    "from statsmodels.nonparametric.kde import KDEUnivariate"
   ]
  }
 ],
 "metadata": {
  "kernelspec": {
   "display_name": "Python 3",
   "language": "python",
   "name": "python3"
  },
  "language_info": {
   "codemirror_mode": {
    "name": "ipython",
    "version": 3
   },
   "file_extension": ".py",
   "mimetype": "text/x-python",
   "name": "python",
   "nbconvert_exporter": "python",
   "pygments_lexer": "ipython3",
   "version": "3.9.0"
  }
 },
 "nbformat": 4,
 "nbformat_minor": 5
}
